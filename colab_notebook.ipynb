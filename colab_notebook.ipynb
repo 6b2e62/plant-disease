{
 "cells": [
  {
   "cell_type": "markdown",
   "metadata": {},
   "source": [
    "# Clone and install requirements"
   ]
  },
  {
   "cell_type": "code",
   "execution_count": null,
   "metadata": {},
   "outputs": [],
   "source": [
    "!git clone https://github.com/6b2e62/plant-disease.git\n",
    "%cd plant-disease/\n",
    "!pip install -r requirements.txt"
   ]
  },
  {
   "cell_type": "markdown",
   "metadata": {},
   "source": [
    "# after shell restart, log in to WanDB"
   ]
  },
  {
   "cell_type": "code",
   "execution_count": null,
   "metadata": {},
   "outputs": [],
   "source": [
    "!wandb login <api_key>"
   ]
  },
  {
   "cell_type": "markdown",
   "metadata": {},
   "source": [
    "# Download DB\n",
    "\n"
   ]
  },
  {
   "cell_type": "code",
   "execution_count": null,
   "metadata": {},
   "outputs": [],
   "source": [
    "%cd plant-disease/\n",
    "!make download-dataset"
   ]
  },
  {
   "cell_type": "markdown",
   "metadata": {},
   "source": [
    "# Resize"
   ]
  },
  {
   "cell_type": "code",
   "execution_count": null,
   "metadata": {},
   "outputs": [],
   "source": [
    "%cd plant-disease/\n",
    "!python3 ./file_manager/data_manager.py --resize --shape 96 96 --source \"original_dataset\""
   ]
  },
  {
   "cell_type": "markdown",
   "metadata": {},
   "source": [
    "# Change runtime type\n",
    "\n",
    "Runtime type has to be changed otherwise CPU will be used.\n",
    "\n",
    "In top right corenr near RAM and disk usage there's an arrow > Change runtime type > T4 graphics cards."
   ]
  },
  {
   "cell_type": "markdown",
   "metadata": {},
   "source": [
    "# Run training code"
   ]
  },
  {
   "cell_type": "code",
   "execution_count": null,
   "metadata": {},
   "outputs": [],
   "source": [
    "from pathlib import Path\n",
    "\n",
    "from model.efficentnetv2b0 import EfficientNetV2B0Model\n",
    "from model.mobilenetv2 import MobilenetV2Model\n",
    "from model.resnet50v2 import Resnet50V2Model\n",
    "from model.test_model import TestModel\n",
    "\n",
    "if __name__ == '__main__':\n",
    "    model = Resnet50V2Model(Path('./data/resized_dataset_64_64/'), job_name=\"ResNet50v2\")\n",
    "    # model = EfficientNetV2B0Model(Path('./data/resized_dataset_128_128/'), job_name=\"EfficientNetV2B0\")\n",
    "    # model = MobilenetV2Model(Path('./data/resized_dataset_96_96/'), job_name=\"MobileNetV2\")\n",
    "    # model = TestModel()\n",
    "    model.fit()"
   ]
  },
  {
   "cell_type": "markdown",
   "metadata": {},
   "source": [
    "# Run frontend"
   ]
  },
  {
   "cell_type": "code",
   "execution_count": 1,
   "metadata": {},
   "outputs": [
    {
     "name": "stdout",
     "output_type": "stream",
     "text": [
      "Running on local URL:  http://127.0.0.1:7860\n",
      "\n",
      "To create a public link, set `share=True` in `launch()`.\n"
     ]
    },
    {
     "data": {
      "text/html": [
       "<div><iframe src=\"http://127.0.0.1:7860/\" width=\"100%\" height=\"500\" allow=\"autoplay; camera; microphone; clipboard-read; clipboard-write;\" frameborder=\"0\" allowfullscreen></iframe></div>"
      ],
      "text/plain": [
       "<IPython.core.display.HTML object>"
      ]
     },
     "metadata": {},
     "output_type": "display_data"
    },
    {
     "data": {
      "text/plain": []
     },
     "execution_count": 1,
     "metadata": {},
     "output_type": "execute_result"
    }
   ],
   "source": [
    "import gradio as gr\n",
    "import tensorflow as tf\n",
    "\n",
    "model = tf.keras.models.load_model(\"production.keras\")\n",
    "\n",
    "def predict(img):\n",
    "    return model.predict(img)\n",
    "\n",
    "demo = gr.Interface(\n",
    "    fn=predict,\n",
    "    gr.Image(),\n",
    "    \"text\",\n",
    ")\n",
    "\n",
    "demo.launch()"
   ]
  },
  {
   "cell_type": "code",
   "execution_count": null,
   "metadata": {},
   "outputs": [],
   "source": []
  }
 ],
 "metadata": {
  "kernelspec": {
   "display_name": "Python 3 (ipykernel)",
   "language": "python",
   "name": "python3"
  },
  "language_info": {
   "codemirror_mode": {
    "name": "ipython",
    "version": 3
   },
   "file_extension": ".py",
   "mimetype": "text/x-python",
   "name": "python",
   "nbconvert_exporter": "python",
   "pygments_lexer": "ipython3",
   "version": "3.10.12"
  }
 },
 "nbformat": 4,
 "nbformat_minor": 2
}
