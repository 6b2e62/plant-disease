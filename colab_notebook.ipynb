{
 "cells": [
  {
   "cell_type": "markdown",
   "metadata": {},
   "source": [
    "# Clone and install requirements"
   ]
  },
  {
   "cell_type": "code",
   "execution_count": null,
   "metadata": {},
   "outputs": [],
   "source": [
    "!git clone https://github.com/6b2e62/plant-disease.git\n",
    "%cd plant-disease/\n",
    "!pip install -r requirements.txt"
   ]
  },
  {
   "cell_type": "markdown",
   "metadata": {},
   "source": [
    "# after shell restart, log in to WanDB"
   ]
  },
  {
   "cell_type": "code",
   "execution_count": null,
   "metadata": {},
   "outputs": [],
   "source": [
    "!wandb login <api_key>"
   ]
  },
  {
   "cell_type": "markdown",
   "metadata": {},
   "source": [
    "# Download DB\n",
    "\n"
   ]
  },
  {
   "cell_type": "code",
   "execution_count": null,
   "metadata": {},
   "outputs": [],
   "source": [
    "%cd plant-disease/\n",
    "!make download-dataset"
   ]
  },
  {
   "cell_type": "markdown",
   "metadata": {},
   "source": [
    "# Resize"
   ]
  },
  {
   "cell_type": "code",
   "execution_count": null,
   "metadata": {},
   "outputs": [],
   "source": [
    "%cd plant-disease/\n",
    "!python3 ./file_manager/data_manager.py --resize --shape 96 96 --source \"original_dataset\""
   ]
  },
  {
   "cell_type": "markdown",
   "metadata": {},
   "source": [
    "# Run code"
   ]
  },
  {
   "cell_type": "code",
   "execution_count": null,
   "metadata": {},
   "outputs": [],
   "source": [
    "from pathlib import Path\n",
    "\n",
    "from model.efficentnetv2b0 import EfficientNetV2B0Model\n",
    "from model.mobilenetv2 import MobilenetV2Model\n",
    "from model.resnet50v2 import Resnet50V2Model\n",
    "from model.test_model import TestModel\n",
    "\n",
    "if __name__ == '__main__':\n",
    "    model = Resnet50V2Model(Path('./data/resized_dataset_64_64/'), job_name=\"ResNet50v2\")\n",
    "    # model = EfficientNetV2B0Model(Path('./data/resized_dataset_128_128/'), job_name=\"EfficientNetV2B0\")\n",
    "    # model = MobilenetV2Model(Path('./data/resized_dataset_96_96/'), job_name=\"MobileNetV2\")\n",
    "    # model = TestModel()\n",
    "    model.fit()"
   ]
  }
 ],
 "metadata": {
  "language_info": {
   "name": "python"
  }
 },
 "nbformat": 4,
 "nbformat_minor": 2
}
