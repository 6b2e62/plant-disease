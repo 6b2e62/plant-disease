{
 "cells": [
  {
   "cell_type": "markdown",
   "metadata": {},
   "source": [
    "# Clean start"
   ]
  },
  {
   "cell_type": "code",
   "execution_count": null,
   "metadata": {},
   "outputs": [],
   "source": [
    "!sudo rm -rf /content/plant-disease"
   ]
  },
  {
   "cell_type": "markdown",
   "metadata": {},
   "source": [
    "# Clone/pull and install/update requirements"
   ]
  },
  {
   "cell_type": "code",
   "execution_count": null,
   "metadata": {},
   "outputs": [],
   "source": [
    "%cd /content\n",
    "!git clone https://github.com/6b2e62/plant-disease.git\n",
    "%cd /content/plant-disease\n",
    "!git pull\n",
    "!pip install -r requirements.txt"
   ]
  },
  {
   "cell_type": "markdown",
   "metadata": {},
   "source": [
    "# Log in to WanDB"
   ]
  },
  {
   "cell_type": "code",
   "execution_count": null,
   "metadata": {},
   "outputs": [],
   "source": [
    "!wandb login <x>"
   ]
  },
  {
   "cell_type": "markdown",
   "metadata": {},
   "source": [
    "# Download DB\n",
    "\n"
   ]
  },
  {
   "cell_type": "code",
   "execution_count": null,
   "metadata": {},
   "outputs": [],
   "source": [
    "%cd /content/plant-disease\n",
    "!make download-dataset"
   ]
  },
  {
   "cell_type": "markdown",
   "metadata": {},
   "source": [
    "# Resize"
   ]
  },
  {
   "cell_type": "code",
   "execution_count": null,
   "metadata": {},
   "outputs": [],
   "source": [
    "%cd /content/plant-disease\n",
    "!python3 ./file_manager/data_manager.py --resize --shape 96 96 --source \"original_dataset\""
   ]
  },
  {
   "cell_type": "markdown",
   "metadata": {},
   "source": [
    "# Change runtime type\n",
    "\n",
    "Runtime type has to be changed otherwise CPU will be used.\n",
    "\n",
    "In top right corenr near RAM and disk usage there's an arrow > Change runtime type > T4 graphics cards."
   ]
  },
  {
   "cell_type": "markdown",
   "metadata": {},
   "source": [
    "# Issues\n",
    "\n",
    "If WanDB login or init is not responding hit Runtime > Restart Session (ctrl + M .) and try logging again"
   ]
  },
  {
   "cell_type": "markdown",
   "metadata": {},
   "source": [
    "# Run example"
   ]
  },
  {
   "cell_type": "code",
   "execution_count": null,
   "metadata": {},
   "outputs": [],
   "source": [
    "%cd /content/plant-disease\n",
    "\n",
    "import argparse\n",
    "from pathlib import Path\n",
    "\n",
    "from model.efficentnetv2b0 import EfficientNetV2B0Model\n",
    "from model.mobilenetv2 import MobilenetV2Model\n",
    "from model.resnet50v2 import Resnet50V2Model\n",
    "from model.test_model import TestModel\n",
    "\n",
    "if __name__ == '__main__':\n",
    "    model = Resnet50V2Model(Path(f'./data/resized_dataset_256_256/'), job_name=\"ResNet50v2\")\n",
    "    model.overload_config(epoch=100)\n",
    "    model.fit()\n",
    "    model.save(\"resnet50_256.keras\")\n",
    "    print(\"All done.\")\n"
   ]
  }
 ],
 "metadata": {
  "kernelspec": {
   "display_name": "Python 3 (ipykernel)",
   "language": "python",
   "name": "python3"
  },
  "language_info": {
   "codemirror_mode": {
    "name": "ipython",
    "version": 3
   },
   "file_extension": ".py",
   "mimetype": "text/x-python",
   "name": "python",
   "nbconvert_exporter": "python",
   "pygments_lexer": "ipython3",
   "version": "3.undefined.undefined"
  }
 },
 "nbformat": 4,
 "nbformat_minor": 2
}
