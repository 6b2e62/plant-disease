{
 "cells": [
  {
   "cell_type": "code",
   "execution_count": null,
   "metadata": {},
   "outputs": [],
   "source": [
    "import argparse\n",
    "from pathlib import Path\n",
    "\n",
    "from model.efficentnetv2b0 import EfficientNetV2B0Model\n",
    "from model.mobilenetv2 import MobilenetV2Model\n",
    "from model.resnet50v2 import Resnet50V2Model\n",
    "from model.test_model import TestModel\n",
    "\n",
    "if __name__ == '__main__':\n",
    "    model = Resnet50V2Model(Path('./data/resized_dataset_64_64/'), job_name=\"ResNet50v2\")\n",
    "    # model = EfficientNetV2B0Model(Path('./data/resized_dataset_128_128/'), job_name=\"EfficientNetV2B0\")\n",
    "    # model = MobilenetV2Model(Path('./data/resized_dataset_96_96/'), job_name=\"MobileNetV2\")\n",
    "    # model = TestModel()\n",
    "    model.fit()\n"
   ]
  }
 ],
 "metadata": {
  "language_info": {
   "name": "python"
  }
 },
 "nbformat": 4,
 "nbformat_minor": 2
}
